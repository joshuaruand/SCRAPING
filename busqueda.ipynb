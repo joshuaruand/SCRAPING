{
 "cells": [
  {
   "cell_type": "code",
   "execution_count": 1,
   "metadata": {},
   "outputs": [],
   "source": [
    "import pandas as pd\n",
    "import time"
   ]
  },
  {
   "cell_type": "code",
   "execution_count": 2,
   "metadata": {},
   "outputs": [],
   "source": [
    "archivo_excel=\"./DATA/EGRESADOS_FIIS.xlsx\"\n",
    "df = pd.read_excel(archivo_excel, engine='openpyxl')"
   ]
  },
  {
   "cell_type": "code",
   "execution_count": null,
   "metadata": {},
   "outputs": [],
   "source": [
    "print(df.head())"
   ]
  },
  {
   "cell_type": "code",
   "execution_count": 3,
   "metadata": {},
   "outputs": [
    {
     "name": "stdout",
     "output_type": "stream",
     "text": [
      "Diana Parra Salazar\n",
      "Pedro Arturo Valdivia Magallanes\n"
     ]
    }
   ],
   "source": [
    "lista=df['Unnamed: 2']\n",
    "for i in range(1,3):\n",
    "    print(lista[i])"
   ]
  },
  {
   "cell_type": "code",
   "execution_count": 4,
   "metadata": {},
   "outputs": [],
   "source": [
    "from seleniumbase import Driver"
   ]
  },
  {
   "cell_type": "code",
   "execution_count": 5,
   "metadata": {},
   "outputs": [],
   "source": [
    "driver=Driver(uc=True)"
   ]
  },
  {
   "cell_type": "code",
   "execution_count": 6,
   "metadata": {},
   "outputs": [],
   "source": [
    "driver.open(\"https://www.linkedin.com/login/es?fromSignIn=true&trk=guest_homepage-basic_nav-header-signin\")"
   ]
  },
  {
   "cell_type": "code",
   "execution_count": 7,
   "metadata": {},
   "outputs": [],
   "source": [
    "driver.type(\"#username\", \"dreamsin.pe@gmail.com\")"
   ]
  },
  {
   "cell_type": "code",
   "execution_count": 8,
   "metadata": {},
   "outputs": [],
   "source": [
    "driver.type(\"#password\", \"holasoyDREAMSIN5+\")\n"
   ]
  },
  {
   "cell_type": "code",
   "execution_count": 9,
   "metadata": {},
   "outputs": [],
   "source": [
    "driver.click(\"button.btn__primary--large\")"
   ]
  },
  {
   "cell_type": "code",
   "execution_count": 14,
   "metadata": {},
   "outputs": [
    {
     "name": "stdout",
     "output_type": "stream",
     "text": [
      "-------------NEXT----------\n",
      "\n",
      "\n",
      "-------------NEXT----------\n",
      "\n",
      "\n",
      "-------------NEXT----------\n",
      "\n",
      "\n",
      "-------------NEXT----------\n",
      "\n",
      "\n",
      "-------------NEXT----------\n",
      "\n",
      "\n"
     ]
    },
    {
     "ename": "NoSuchElementException",
     "evalue": "Message: \n Element {div.entity-result__universal-image} was not present after 7 seconds!\n",
     "output_type": "error",
     "traceback": [
      "\u001b[1;31m---------------------------------------------------------------------------\u001b[0m",
      "\u001b[1;31mNoSuchElementException\u001b[0m                    Traceback (most recent call last)",
      "Cell \u001b[1;32mIn[14], line 14\u001b[0m\n\u001b[0;32m     12\u001b[0m driver\u001b[38;5;241m.\u001b[39mpress_keys(\u001b[38;5;124m\"\u001b[39m\u001b[38;5;124minput.search-global-typeahead__input\u001b[39m\u001b[38;5;124m\"\u001b[39m, \u001b[38;5;124m\"\u001b[39m\u001b[38;5;130;01m\\n\u001b[39;00m\u001b[38;5;124m\"\u001b[39m)\n\u001b[0;32m     13\u001b[0m time\u001b[38;5;241m.\u001b[39msleep(\u001b[38;5;241m2\u001b[39m)\n\u001b[1;32m---> 14\u001b[0m \u001b[43mdriver\u001b[49m\u001b[38;5;241;43m.\u001b[39;49m\u001b[43mclick\u001b[49m\u001b[43m(\u001b[49m\u001b[38;5;124;43m\"\u001b[39;49m\u001b[38;5;124;43mdiv.entity-result__universal-image\u001b[39;49m\u001b[38;5;124;43m\"\u001b[39;49m\u001b[43m)\u001b[49m\n\u001b[0;32m     16\u001b[0m time\u001b[38;5;241m.\u001b[39msleep(\u001b[38;5;241m3\u001b[39m)\n\u001b[0;32m     18\u001b[0m \u001b[38;5;66;03m# Obtener el nombre completo\u001b[39;00m\n",
      "File \u001b[1;32mc:\\Users\\joshu\\AppData\\Local\\Programs\\Python\\Python312\\Lib\\site-packages\\seleniumbase\\core\\sb_driver.py:59\u001b[0m, in \u001b[0;36mDriverMethods.click\u001b[1;34m(self, *args, **kwargs)\u001b[0m\n\u001b[0;32m     58\u001b[0m \u001b[38;5;28;01mdef\u001b[39;00m \u001b[38;5;21mclick\u001b[39m(\u001b[38;5;28mself\u001b[39m, \u001b[38;5;241m*\u001b[39margs, \u001b[38;5;241m*\u001b[39m\u001b[38;5;241m*\u001b[39mkwargs):\n\u001b[1;32m---> 59\u001b[0m     \u001b[43mpage_actions\u001b[49m\u001b[38;5;241;43m.\u001b[39;49m\u001b[43mclick\u001b[49m\u001b[43m(\u001b[49m\u001b[38;5;28;43mself\u001b[39;49m\u001b[38;5;241;43m.\u001b[39;49m\u001b[43mdriver\u001b[49m\u001b[43m,\u001b[49m\u001b[43m \u001b[49m\u001b[38;5;241;43m*\u001b[39;49m\u001b[43margs\u001b[49m\u001b[43m,\u001b[49m\u001b[43m \u001b[49m\u001b[38;5;241;43m*\u001b[39;49m\u001b[38;5;241;43m*\u001b[39;49m\u001b[43mkwargs\u001b[49m\u001b[43m)\u001b[49m\n",
      "File \u001b[1;32mc:\\Users\\joshu\\AppData\\Local\\Programs\\Python\\Python312\\Lib\\site-packages\\seleniumbase\\fixtures\\page_actions.py:1531\u001b[0m, in \u001b[0;36mclick\u001b[1;34m(driver, selector, by, timeout)\u001b[0m\n\u001b[0;32m   1529\u001b[0m \u001b[38;5;28;01mdef\u001b[39;00m \u001b[38;5;21mclick\u001b[39m(driver, selector, by\u001b[38;5;241m=\u001b[39m\u001b[38;5;124m\"\u001b[39m\u001b[38;5;124mcss selector\u001b[39m\u001b[38;5;124m\"\u001b[39m, timeout\u001b[38;5;241m=\u001b[39msettings\u001b[38;5;241m.\u001b[39mSMALL_TIMEOUT):\n\u001b[0;32m   1530\u001b[0m     selector, by \u001b[38;5;241m=\u001b[39m page_utils\u001b[38;5;241m.\u001b[39mrecalculate_selector(selector, by)\n\u001b[1;32m-> 1531\u001b[0m     element \u001b[38;5;241m=\u001b[39m \u001b[43mwait_for_element_clickable\u001b[49m\u001b[43m(\u001b[49m\n\u001b[0;32m   1532\u001b[0m \u001b[43m        \u001b[49m\u001b[43mdriver\u001b[49m\u001b[43m,\u001b[49m\u001b[43m \u001b[49m\u001b[43mselector\u001b[49m\u001b[43m,\u001b[49m\u001b[43m \u001b[49m\u001b[43mby\u001b[49m\u001b[38;5;241;43m=\u001b[39;49m\u001b[43mby\u001b[49m\u001b[43m,\u001b[49m\u001b[43m \u001b[49m\u001b[43mtimeout\u001b[49m\u001b[38;5;241;43m=\u001b[39;49m\u001b[43mtimeout\u001b[49m\n\u001b[0;32m   1533\u001b[0m \u001b[43m    \u001b[49m\u001b[43m)\u001b[49m\n\u001b[0;32m   1534\u001b[0m     element\u001b[38;5;241m.\u001b[39mclick()\n",
      "File \u001b[1;32mc:\\Users\\joshu\\AppData\\Local\\Programs\\Python\\Python312\\Lib\\site-packages\\seleniumbase\\fixtures\\page_actions.py:888\u001b[0m, in \u001b[0;36mwait_for_element_clickable\u001b[1;34m(driver, selector, by, timeout, original_selector)\u001b[0m\n\u001b[0;32m    881\u001b[0m \u001b[38;5;28;01mif\u001b[39;00m \u001b[38;5;129;01mnot\u001b[39;00m is_present:\n\u001b[0;32m    882\u001b[0m     \u001b[38;5;66;03m# The element does not exist in the HTML\u001b[39;00m\n\u001b[0;32m    883\u001b[0m     message \u001b[38;5;241m=\u001b[39m \u001b[38;5;124m\"\u001b[39m\u001b[38;5;124mElement \u001b[39m\u001b[38;5;124m{\u001b[39m\u001b[38;5;132;01m%s\u001b[39;00m\u001b[38;5;124m} was not present after \u001b[39m\u001b[38;5;132;01m%s\u001b[39;00m\u001b[38;5;124m second\u001b[39m\u001b[38;5;132;01m%s\u001b[39;00m\u001b[38;5;124m!\u001b[39m\u001b[38;5;124m\"\u001b[39m \u001b[38;5;241m%\u001b[39m (\n\u001b[0;32m    884\u001b[0m         selector,\n\u001b[0;32m    885\u001b[0m         timeout,\n\u001b[0;32m    886\u001b[0m         plural,\n\u001b[0;32m    887\u001b[0m     )\n\u001b[1;32m--> 888\u001b[0m     \u001b[43mtimeout_exception\u001b[49m\u001b[43m(\u001b[49m\u001b[43mNoSuchElementException\u001b[49m\u001b[43m,\u001b[49m\u001b[43m \u001b[49m\u001b[43mmessage\u001b[49m\u001b[43m)\u001b[49m\n\u001b[0;32m    889\u001b[0m \u001b[38;5;28;01mif\u001b[39;00m \u001b[38;5;129;01mnot\u001b[39;00m is_visible:\n\u001b[0;32m    890\u001b[0m     \u001b[38;5;66;03m# The element exists in the HTML, but is not visible\u001b[39;00m\n\u001b[0;32m    891\u001b[0m     message \u001b[38;5;241m=\u001b[39m \u001b[38;5;124m\"\u001b[39m\u001b[38;5;124mElement \u001b[39m\u001b[38;5;124m{\u001b[39m\u001b[38;5;132;01m%s\u001b[39;00m\u001b[38;5;124m} was not visible after \u001b[39m\u001b[38;5;132;01m%s\u001b[39;00m\u001b[38;5;124m second\u001b[39m\u001b[38;5;132;01m%s\u001b[39;00m\u001b[38;5;124m!\u001b[39m\u001b[38;5;124m\"\u001b[39m \u001b[38;5;241m%\u001b[39m (\n\u001b[0;32m    892\u001b[0m         selector,\n\u001b[0;32m    893\u001b[0m         timeout,\n\u001b[0;32m    894\u001b[0m         plural,\n\u001b[0;32m    895\u001b[0m     )\n",
      "File \u001b[1;32mc:\\Users\\joshu\\AppData\\Local\\Programs\\Python\\Python312\\Lib\\site-packages\\seleniumbase\\fixtures\\page_actions.py:254\u001b[0m, in \u001b[0;36mtimeout_exception\u001b[1;34m(exception, message)\u001b[0m\n\u001b[0;32m    252\u001b[0m \u001b[38;5;28;01mdef\u001b[39;00m \u001b[38;5;21mtimeout_exception\u001b[39m(exception, message):\n\u001b[0;32m    253\u001b[0m     exc, msg \u001b[38;5;241m=\u001b[39m shared_utils\u001b[38;5;241m.\u001b[39mformat_exc(exception, message)\n\u001b[1;32m--> 254\u001b[0m     \u001b[38;5;28;01mraise\u001b[39;00m exc(msg)\n",
      "\u001b[1;31mNoSuchElementException\u001b[0m: Message: \n Element {div.entity-result__universal-image} was not present after 7 seconds!\n"
     ]
    }
   ],
   "source": [
    "# Crear una lista para almacenar los resultados\n",
    "resultados = []\n",
    "\n",
    "# Suponiendo que ya tienes la lista con los nombres completos\n",
    "lista = df['Unnamed: 2']\n",
    "for i in range(1,10):\n",
    "# Bucle para realizar la búsqueda y obtener los datosfor i inrange(1, 5):\n",
    "    \n",
    "    driver.open(\"https://www.linkedin.com/search/results/people/?origin=FACETED_SEARCH&schoolFilter=%5B%221017841%22%5D&sid=yN%3B\")\n",
    "    driver.press_keys(\"input.search-global-typeahead__input\", lista[i])\n",
    "    time.sleep(2)\n",
    "    driver.press_keys(\"input.search-global-typeahead__input\", \"\\n\")\n",
    "    time.sleep(2)\n",
    "    driver.click(\"div.entity-result__universal-image\")\n",
    "    \n",
    "    time.sleep(2)\n",
    "    \n",
    "    # Obtener el nombre completo\n",
    "    nombre_completo = lista[i]\n",
    "    \n",
    "    # Obtener el título o descripción\n",
    "    titulo = driver.find_element(\"div.text-body-medium\").text\n",
    "    \n",
    "    # Obtener la experiencia\n",
    "    experiencia = driver.find_elements(\"section.artdeco-card\")[3].text\n",
    "    \n",
    "    # Agregar los resultados a la lista\n",
    "    resultados.append([nombre_completo, titulo, experiencia])\n",
    "    print(\"-------------NEXT----------\\n\\n\")\n"
   ]
  },
  {
   "cell_type": "code",
   "execution_count": null,
   "metadata": {},
   "outputs": [],
   "source": [
    "# Crear un DataFrame de Pandas con los resultados\n",
    "df_resultados = pd.DataFrame(resultados, columns=['Nombre Completo', 'Título', 'Experiencia'])\n",
    "\n",
    "# Exportar el DataFrame a un archivo Excel\n",
    "df_resultados.to_excel('resultados_scraping.xlsx', index=False)\n",
    "\n",
    "print(\"Archivo Excel creado con éxito.\")"
   ]
  },
  {
   "cell_type": "code",
   "execution_count": null,
   "metadata": {},
   "outputs": [],
   "source": [
    "i=driver.find_elements(\"div.entity-result__universal-image\")\n",
    "i[0].click()"
   ]
  },
  {
   "cell_type": "code",
   "execution_count": null,
   "metadata": {},
   "outputs": [],
   "source": [
    "driver.find_elements(\"ul.ouLcAoEIjhOXubuuhEumsWnPchQOjuzRKc\")[1].text"
   ]
  },
  {
   "cell_type": "code",
   "execution_count": null,
   "metadata": {},
   "outputs": [],
   "source": [
    "driver.press_keys(\"input.search-global-typeahead__input\", \"Karina Canales\\n\")"
   ]
  },
  {
   "cell_type": "code",
   "execution_count": null,
   "metadata": {},
   "outputs": [],
   "source": [
    "driver.click(\"div.search-results__cluster-bottom-banner\")\n"
   ]
  },
  {
   "cell_type": "code",
   "execution_count": null,
   "metadata": {},
   "outputs": [],
   "source": [
    "driver.find_element(\"div.text-body-medium\").text"
   ]
  },
  {
   "cell_type": "code",
   "execution_count": null,
   "metadata": {},
   "outputs": [],
   "source": [
    "for i in driver.find_elements(\"li.QSPnvoftZYqqWFXeYxaBSZLhsmffNvRqA\"):\n",
    "    print(i.text)"
   ]
  },
  {
   "cell_type": "code",
   "execution_count": null,
   "metadata": {},
   "outputs": [],
   "source": [
    "driver.close()"
   ]
  }
 ],
 "metadata": {
  "kernelspec": {
   "display_name": ".venv",
   "language": "python",
   "name": "python3"
  },
  "language_info": {
   "codemirror_mode": {
    "name": "ipython",
    "version": 3
   },
   "file_extension": ".py",
   "mimetype": "text/x-python",
   "name": "python",
   "nbconvert_exporter": "python",
   "pygments_lexer": "ipython3",
   "version": "3.12.5"
  }
 },
 "nbformat": 4,
 "nbformat_minor": 2
}
