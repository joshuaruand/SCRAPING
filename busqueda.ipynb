{
 "cells": [
  {
   "cell_type": "code",
   "execution_count": null,
   "metadata": {},
   "outputs": [],
   "source": [
    "import pandas as pd\n",
    "import time"
   ]
  },
  {
   "cell_type": "code",
   "execution_count": null,
   "metadata": {},
   "outputs": [],
   "source": [
    "archivo_excel=\"./DATA/EGRESADOS_FIIS.xlsx\"\n",
    "df = pd.read_excel(archivo_excel, engine='openpyxl')"
   ]
  },
  {
   "cell_type": "code",
   "execution_count": null,
   "metadata": {},
   "outputs": [],
   "source": [
    "print(df.head())"
   ]
  },
  {
   "cell_type": "code",
   "execution_count": 37,
   "metadata": {},
   "outputs": [
    {
     "name": "stdout",
     "output_type": "stream",
     "text": [
      "Diana Parra Salazar\n",
      "Pedro Arturo Valdivia Magallanes\n"
     ]
    }
   ],
   "source": [
    "lista=df['Unnamed: 2']\n",
    "for i in range(1,3):\n",
    "    print(lista[i])\n"
   ]
  },
  {
   "cell_type": "code",
   "execution_count": 38,
   "metadata": {},
   "outputs": [],
   "source": [
    "from seleniumbase import Driver"
   ]
  },
  {
   "cell_type": "code",
   "execution_count": 39,
   "metadata": {},
   "outputs": [],
   "source": [
    "driver=Driver(uc=True)"
   ]
  },
  {
   "cell_type": "code",
   "execution_count": 40,
   "metadata": {},
   "outputs": [],
   "source": [
    "driver.open(\"https://www.linkedin.com/login/es?fromSignIn=true&trk=guest_homepage-basic_nav-header-signin\")"
   ]
  },
  {
   "cell_type": "code",
   "execution_count": 41,
   "metadata": {},
   "outputs": [],
   "source": [
    "driver.type(\"#username\", \"dreamsin.pe@gmail.com\")"
   ]
  },
  {
   "cell_type": "code",
   "execution_count": 42,
   "metadata": {},
   "outputs": [],
   "source": [
    "driver.type(\"#password\", \"holasoyDREAMSIN5+\")\n"
   ]
  },
  {
   "cell_type": "code",
   "execution_count": 43,
   "metadata": {},
   "outputs": [],
   "source": [
    "driver.click(\"button.btn__primary--large\")"
   ]
  },
  {
   "cell_type": "code",
   "execution_count": null,
   "metadata": {},
   "outputs": [],
   "source": [
    "driver.click(\"div.entity-result__universal-image\")\n"
   ]
  },
  {
   "cell_type": "code",
   "execution_count": null,
   "metadata": {},
   "outputs": [],
   "source": [
    "# Crear una lista para almacenar los resultados\n",
    "resultados = []\n",
    "\n",
    "# Suponiendo que ya tienes la lista con los nombres completos\n",
    "lista = df['Unnamed: 2']\n",
    "for i in range(1,20):\n",
    "# Bucle para realizar la búsqueda y obtener los datosfor i inrange(1, 5):\n",
    "    driver.open(\"https://www.linkedin.com/search/results/people/?origin=FACETED_SEARCH&schoolFilter=%5B%221017841%22%5D&sid=yN%3B\")\n",
    "    driver.press_keys(\"input.search-global-typeahead__input\", lista[i] + \"\\n\")\n",
    "    driver.click(\"div.entity-result__universal-image\")\n",
    "    \n",
    "    time.sleep(5)\n",
    "    \n",
    "    # Obtener el nombre completo\n",
    "    nombre_completo = lista[i]\n",
    "    \n",
    "    # Obtener el título o descripción\n",
    "    titulo = driver.find_element(\"div.text-body-medium\").text\n",
    "    \n",
    "    # Obtener la experiencia\n",
    "    experiencia = driver.find_elements(\"section.artdeco-card\")[3].text\n",
    "    \n",
    "    # Agregar los resultados a la lista\n",
    "    resultados.append([nombre_completo, titulo, experiencia])\n",
    "    \n",
    "    print(\"-------------NEXT----------\\n\\n\")\n",
    "\n",
    "# Crear un DataFrame de Pandas con los resultados\n",
    "df_resultados = pd.DataFrame(resultados, columns=['Nombre Completo', 'Título', 'Experiencia'])\n",
    "\n",
    "# Exportar el DataFrame a un archivo Excel\n",
    "df_resultados.to_excel('resultados_scraping.xlsx', index=False)\n",
    "\n",
    "print(\"Archivo Excel creado con éxito.\")\n"
   ]
  },
  {
   "cell_type": "code",
   "execution_count": 56,
   "metadata": {},
   "outputs": [],
   "source": [
    "i=driver.find_elements(\"div.entity-result__universal-image\")\n",
    "i[0].click()"
   ]
  },
  {
   "cell_type": "code",
   "execution_count": 58,
   "metadata": {},
   "outputs": [
    {
     "data": {
      "text/plain": [
       "'Universidad de Lima\\nUniversidad de Lima\\nLicenciatura en Publicidad y Marketing - Ciencias de la Comunicación, Ventas, distribución y marketing, general\\nLicenciatura en Publicidad y Marketing - Ciencias de la Comunicación, Ventas, distribución y marketing, general\\n1992 - 1998\\n1992 - 1998'"
      ]
     },
     "execution_count": 58,
     "metadata": {},
     "output_type": "execute_result"
    }
   ],
   "source": [
    "driver.find_elements(\"ul.ouLcAoEIjhOXubuuhEumsWnPchQOjuzRKc\")[1].text"
   ]
  },
  {
   "cell_type": "code",
   "execution_count": 52,
   "metadata": {},
   "outputs": [],
   "source": [
    "driver.press_keys(\"input.search-global-typeahead__input\", \"Karina Canales\\n\")"
   ]
  },
  {
   "cell_type": "code",
   "execution_count": 53,
   "metadata": {},
   "outputs": [],
   "source": [
    "driver.click(\"div.search-results__cluster-bottom-banner\")\n"
   ]
  },
  {
   "cell_type": "code",
   "execution_count": null,
   "metadata": {},
   "outputs": [],
   "source": [
    "driver.find_element(\"div.text-body-medium\").text"
   ]
  },
  {
   "cell_type": "code",
   "execution_count": null,
   "metadata": {},
   "outputs": [],
   "source": [
    "for i in driver.find_elements(\"li.QSPnvoftZYqqWFXeYxaBSZLhsmffNvRqA\"):\n",
    "    print(i.text)"
   ]
  },
  {
   "cell_type": "code",
   "execution_count": null,
   "metadata": {},
   "outputs": [],
   "source": [
    "driver.close()"
   ]
  }
 ],
 "metadata": {
  "kernelspec": {
   "display_name": ".venv",
   "language": "python",
   "name": "python3"
  },
  "language_info": {
   "codemirror_mode": {
    "name": "ipython",
    "version": 3
   },
   "file_extension": ".py",
   "mimetype": "text/x-python",
   "name": "python",
   "nbconvert_exporter": "python",
   "pygments_lexer": "ipython3",
   "version": "3.12.3"
  }
 },
 "nbformat": 4,
 "nbformat_minor": 2
}
